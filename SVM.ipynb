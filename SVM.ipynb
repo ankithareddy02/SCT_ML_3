{
 "cells": [
  {
   "cell_type": "code",
   "execution_count": 8,
   "id": "008d39a1-b48b-4279-b99e-5df7ded10459",
   "metadata": {},
   "outputs": [],
   "source": [
    "import os\n",
    "import cv2\n",
    "import numpy as np\n",
    "import matplotlib.pyplot as plt\n",
    "from sklearn.model_selection import train_test_split\n",
    "from sklearn.svm import SVC\n",
    "from sklearn.metrics import classification_report, confusion_matrix, accuracy_score\n",
    "import seaborn as sns"
   ]
  },
  {
   "cell_type": "code",
   "execution_count": 20,
   "id": "a4a7c385-9334-4dd2-a71c-6e565de33e05",
   "metadata": {},
   "outputs": [
    {
     "name": "stdout",
     "output_type": "stream",
     "text": [
      "✅ Dataset loaded\n",
      "Dataset shape: (2000, 4096) Labels: (2000,)\n"
     ]
    }
   ],
   "source": [
    "data_dir = \"/Users/Ankitha_0614/Desktop/cats_and_dogs_filtered/train\"\n",
    "categories = [\"cats\", \"dogs\"]\n",
    "\n",
    "img_size = 64\n",
    "data = []\n",
    "labels = []\n",
    "\n",
    "for category in categories:\n",
    "    path = os.path.join(data_dir, category)\n",
    "    class_label = categories.index(category)\n",
    "    \n",
    "    for img in os.listdir(path):\n",
    "        try:\n",
    "            img_array = cv2.imread(os.path.join(path, img), cv2.IMREAD_GRAYSCALE)\n",
    "            resized_array = cv2.resize(img_array, (img_size, img_size))\n",
    "            data.append(resized_array.flatten())\n",
    "            labels.append(class_label)\n",
    "        except Exception as e:\n",
    "            pass\n",
    "\n",
    "X = np.array(data)\n",
    "y = np.array(labels)\n",
    "\n",
    "print(\"✅ Dataset loaded\")\n",
    "print(\"Dataset shape:\", X.shape, \"Labels:\", y.shape)\n"
   ]
  },
  {
   "cell_type": "code",
   "execution_count": 18,
   "id": "116f9360-3077-4c1f-bcdb-4bdc211c0161",
   "metadata": {},
   "outputs": [
    {
     "name": "stdout",
     "output_type": "stream",
     "text": [
      "Training samples: (1600, 4096)\n",
      "Testing samples: (400, 4096)\n"
     ]
    }
   ],
   "source": [
    "X_train, X_test, y_train, y_test = train_test_split(\n",
    "    X, y, test_size=0.2, random_state=42\n",
    ")\n",
    "\n",
    "print(\"Training samples:\", X_train.shape)\n",
    "print(\"Testing samples:\", X_test.shape)\n"
   ]
  },
  {
   "cell_type": "code",
   "execution_count": 22,
   "id": "c9c4fe57-4999-4d08-9fa9-5a61c43b2abe",
   "metadata": {},
   "outputs": [
    {
     "name": "stdout",
     "output_type": "stream",
     "text": [
      "✅ Model trained\n",
      "Accuracy: 0.505\n"
     ]
    }
   ],
   "source": [
    "model = SVC(kernel='linear', random_state=42)\n",
    "model.fit(X_train, y_train)\n",
    "\n",
    "y_pred = model.predict(X_test)\n",
    "\n",
    "print(\"✅ Model trained\")\n",
    "print(\"Accuracy:\", accuracy_score(y_test, y_pred))\n"
   ]
  },
  {
   "cell_type": "code",
   "execution_count": 24,
   "id": "4096805c-b4dc-412e-8730-971831b58c32",
   "metadata": {},
   "outputs": [
    {
     "name": "stdout",
     "output_type": "stream",
     "text": [
      "Classification Report:\n",
      "               precision    recall  f1-score   support\n",
      "\n",
      "           0       0.50      0.51      0.51       199\n",
      "           1       0.51      0.50      0.51       201\n",
      "\n",
      "    accuracy                           0.51       400\n",
      "   macro avg       0.51      0.51      0.51       400\n",
      "weighted avg       0.51      0.51      0.51       400\n",
      "\n"
     ]
    },
    {
     "data": {
      "image/png": "[encoded data removed]",
      "text/plain": [
       "<Figure size 640x480 with 2 Axes>"
      ]
     },
     "metadata": {},
     "output_type": "display_data"
    }
   ],
   "source": [
    "print(\"Classification Report:\\n\", classification_report(y_test, y_pred))\n",
    "\n",
    "cm = confusion_matrix(y_test, y_pred)\n",
    "sns.heatmap(cm, annot=True, fmt=\"d\", cmap=\"Blues\", xticklabels=categories, yticklabels=categories)\n",
    "plt.xlabel(\"Predicted\")\n",
    "plt.ylabel(\"True\")\n",
    "plt.title(\"Confusion Matrix\")\n",
    "plt.show()\n"
   ]
  },
  {
   "cell_type": "code",
   "execution_count": 32,
   "id": "366a0827-49ec-4848-80e4-36fee736bce3",
   "metadata": {},
   "outputs": [
    {
     "name": "stdout",
     "output_type": "stream",
     "text": [
      "Sample files in validation/cats: ['cat.2042.jpg', 'cat.2056.jpg', 'cat.2081.jpg', 'cat.2095.jpg', 'cat.2268.jpg']\n",
      "Prediction: dogs\n"
     ]
    }
   ],
   "source": [
    "def predict_image(img_path):\n",
    "    img = cv2.imread(img_path, cv2.IMREAD_GRAYSCALE)\n",
    "    if img is None:\n",
    "        raise FileNotFoundError(f\"❌ Image not found at {img_path}\")\n",
    "    img_resized = cv2.resize(img, (img_size, img_size)).flatten().reshape(1, -1)\n",
    "    prediction = model.predict(img_resized)\n",
    "    return categories[prediction[0]]\n",
    "\n",
    "# 🔍 First, check which files exist in validation folder\n",
    "val_path = \"/Users/lahari_0614/Desktop/cats_and_dogs_filtered/validation/cats\"\n",
    "print(\"Sample files in validation/cats:\", os.listdir(val_path)[:5])\n",
    "\n",
    "# ✅ Use one of the shown files for testing\n",
    "test_img = os.path.join(val_path, os.listdir(val_path)[0])\n",
    "print(\"Prediction:\", predict_image(test_img))\n"
   ]
  },
  {
   "cell_type": "code",
   "execution_count": null,
   "id": "51e63e1c-03f5-4e0d-b595-e2ae068cf033",
   "metadata": {},
   "outputs": [],
   "source": []
  }
 ],
 "metadata": {
  "kernelspec": {
   "display_name": "Python [conda env:base] *",
   "language": "python",
   "name": "conda-base-py"
  },
  "language_info": {
   "codemirror_mode": {
    "name": "ipython",
    "version": 3
   },
   "file_extension": ".py",
   "mimetype": "text/x-python",
   "name": "python",
   "nbconvert_exporter": "python",
   "pygments_lexer": "ipython3",
   "version": "3.12.7"
  }
 },
 "nbformat": 4,
 "nbformat_minor": 5
}
